{
 "cells": [
  {
   "cell_type": "markdown",
   "id": "ec1c4709",
   "metadata": {},
   "source": [
    "#                                 STATISTICS WORKSHEET-5\n",
    "\n",
    "\n",
    "###      Q1 to Q10 are MCQs with only one correct answer. Choose the correct option.\n"
   ]
  },
  {
   "cell_type": "markdown",
   "id": "a3b849dd",
   "metadata": {},
   "source": [
    "1. Using a goodness of fit,we can assess whether a set of obtained frequencies differ from a set of frequencies.\n",
    "Ans: D) Expected.\n",
    "2. Chisquare is used to analyse.\n",
    "Ans: C) Frequency\n",
    "3. What is the mean of a Chi Square distribution with 6 degrees of freedom?\n",
    "Ans: C) 6\n",
    "4. Which of these distributions is used for a goodness of fit testing?\n",
    "Ans: B)Chisquare Distribution\n",
    "5. Which of the following distributions is Continuous\n",
    "Ans: C) f distribution.\n",
    "6. A statement made about a population for testing purpose is called?\n",
    "Ans: B)Hypothesis.\n",
    "7. If the assumed hypothesis is tested for rejection considering it to be true is called?\n",
    "Ans: A)Null Hypothesis.\n",
    "8. If the Critical region is evenly distributed then the test is referred as?\n",
    "Ans: A) Two-tailed test\n",
    "9. Alternative Hypothesis is also called as?\n",
    "Ans:B) Research Hypothesis.\n",
    "10. In a Binomial Distribution, if ‘n’ is the number of trials and ‘p’ is the probability of success, then the mean value is \n",
    "Ans: A)np\n",
    "\n"
   ]
  },
  {
   "cell_type": "code",
   "execution_count": null,
   "id": "6a6e2bc8",
   "metadata": {},
   "outputs": [],
   "source": []
  }
 ],
 "metadata": {
  "kernelspec": {
   "display_name": "Python 3 (ipykernel)",
   "language": "python",
   "name": "python3"
  },
  "language_info": {
   "codemirror_mode": {
    "name": "ipython",
    "version": 3
   },
   "file_extension": ".py",
   "mimetype": "text/x-python",
   "name": "python",
   "nbconvert_exporter": "python",
   "pygments_lexer": "ipython3",
   "version": "3.9.12"
  }
 },
 "nbformat": 4,
 "nbformat_minor": 5
}
